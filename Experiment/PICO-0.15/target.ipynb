{
 "cells": [
  {
   "cell_type": "code",
   "execution_count": 7,
   "metadata": {},
   "outputs": [
    {
     "name": "stdout",
     "output_type": "stream",
     "text": [
      "OBJECTIVE --To determine the quality of r and omised controlled trials of exercise therapy for back pain . CONCLUSIONS --No conclusion can be drawn about whether exercise therapy is better than other conservative treatments for back pain or whether a specific type of exercise is more effective . This study was design ed to determine the effect of multimodal intervention and the prevention of back injury , and to evaluate the adverse side effects of using a lumbosacral corset in the workplace . SUBJECTS--23 r and omised controlled trials , of which 16 studied exercise therapy given by physiotherapists to individual patients with back pain . MAIN OUTCOME MEASURES --Score for quality of methods ( based on four main categories : study population , interventions , measurement of effect , and data presentation and analysis ) and main conclusion of author(s ) with regard to exercise therapy . Six studies found that exercise was better than reference treatments and 10 reported it to be no better or worse than the reference treatment . This study supports the concept of using education and prophylactic bracing to prevent back injury and reduce time loss . It appears that the use of intermittent prophylactic bracing has no adverse affects on abdominal muscle strength and may contribute to decreased lost time from work injuries Future scale development is likely to be most beneficial if questions common to all trials are assessed , if the scale is easy to use , and if it is developed with sufficient rigor Comparisons of pre-testing and 6-month follow-up posttesting for abdominal strength , cognitive data , work injury incidence and productivity and use of health care services were evaluated . The scales give readers a quantitative index of the likelihood that the reported methodology and results are free of bias . Quality gives us an estimate of the likelihood that the results are a valid estimate of the truth . Orthoses and training-group showed no changes in strength productivity or accident rate ; however , they showed substantially less lost time . The checklists are most useful in providing investigators with guidelines as to what information should be included in reporting RCTs . Subjects were assigned to three groups : true controls , no back school , no brace orthoses ; back school only ; and back school plus wearing a custom molded lumbosacral orthosis . Assessing the quality of r and omized controlled trials ( RCTs ) is important and relatively new . DESIGN --Computer aided search of published papers and blinded assessment of the methods of studies . Controls and training-only group showed no changes in strength productivity or lost time . Further trials are needed in which greater attention is paid to methods of study RESULTS --Only four studies scored more than 50 points ( maximum 100 ) , indicating that most were of poor quality .\n",
      "['There was no evidence for the effectiveness of lumbar supports due to contradictory outcomes of the studies .\\nThus there is limited evidence that education does not help to prevent back pain .\\nAll three studies on exercise reported a positive result , indicating limited evidence for the effectiveness of exercise .\\nThe review showed that there is limited evidence that exercise has some effect in the prevention of back pain and that education is not effective .\\nNo conclusive evidence was found for or against the effectiveness of lumbar supports .']\n"
     ]
    }
   ],
   "source": [
    "import pandas as pd\n",
    "\n",
    "df = pd.read_csv(r'C:\\Users\\ayush\\OneDrive\\Documents\\GitHub\\Multi-document-summarization-for-medical-literature\\PICO-0.15\\Top_20_sentences_with_token_length_for_each_ReviewID.csv')\n",
    "print(df['top_k_sentences'][0])\n",
    "print([df['Target'][0]])"
   ]
  },
  {
   "cell_type": "code",
   "execution_count": 8,
   "metadata": {},
   "outputs": [],
   "source": [
    "df['Target'] = df['Target'].str.replace('\\n', '')\n",
    "df.to_csv(r'C:\\Users\\ayush\\OneDrive\\Documents\\GitHub\\Multi-document-summarization-for-medical-literature\\PICO-0.15\\Top_20_sentences_with_token_length_for_each_ReviewID.csv',index=False)"
   ]
  },
  {
   "cell_type": "code",
   "execution_count": 9,
   "metadata": {},
   "outputs": [
    {
     "name": "stdout",
     "output_type": "stream",
     "text": [
      "OBJECTIVE --To determine the quality of r and omised controlled trials of exercise therapy for back pain . CONCLUSIONS --No conclusion can be drawn about whether exercise therapy is better than other conservative treatments for back pain or whether a specific type of exercise is more effective . This study was design ed to determine the effect of multimodal intervention and the prevention of back injury , and to evaluate the adverse side effects of using a lumbosacral corset in the workplace . SUBJECTS--23 r and omised controlled trials , of which 16 studied exercise therapy given by physiotherapists to individual patients with back pain . MAIN OUTCOME MEASURES --Score for quality of methods ( based on four main categories : study population , interventions , measurement of effect , and data presentation and analysis ) and main conclusion of author(s ) with regard to exercise therapy . Six studies found that exercise was better than reference treatments and 10 reported it to be no better or worse than the reference treatment . This study supports the concept of using education and prophylactic bracing to prevent back injury and reduce time loss . It appears that the use of intermittent prophylactic bracing has no adverse affects on abdominal muscle strength and may contribute to decreased lost time from work injuries Future scale development is likely to be most beneficial if questions common to all trials are assessed , if the scale is easy to use , and if it is developed with sufficient rigor Comparisons of pre-testing and 6-month follow-up posttesting for abdominal strength , cognitive data , work injury incidence and productivity and use of health care services were evaluated . The scales give readers a quantitative index of the likelihood that the reported methodology and results are free of bias . Quality gives us an estimate of the likelihood that the results are a valid estimate of the truth . Orthoses and training-group showed no changes in strength productivity or accident rate ; however , they showed substantially less lost time . The checklists are most useful in providing investigators with guidelines as to what information should be included in reporting RCTs . Subjects were assigned to three groups : true controls , no back school , no brace orthoses ; back school only ; and back school plus wearing a custom molded lumbosacral orthosis . Assessing the quality of r and omized controlled trials ( RCTs ) is important and relatively new . DESIGN --Computer aided search of published papers and blinded assessment of the methods of studies . Controls and training-only group showed no changes in strength productivity or lost time . Further trials are needed in which greater attention is paid to methods of study RESULTS --Only four studies scored more than 50 points ( maximum 100 ) , indicating that most were of poor quality .\n",
      "['There was no evidence for the effectiveness of lumbar supports due to contradictory outcomes of the studies .Thus there is limited evidence that education does not help to prevent back pain .All three studies on exercise reported a positive result , indicating limited evidence for the effectiveness of exercise .The review showed that there is limited evidence that exercise has some effect in the prevention of back pain and that education is not effective .No conclusive evidence was found for or against the effectiveness of lumbar supports .']\n"
     ]
    }
   ],
   "source": [
    "df = pd.read_csv(r'C:\\Users\\ayush\\OneDrive\\Documents\\GitHub\\Multi-document-summarization-for-medical-literature\\PICO-0.15\\Top_20_sentences_with_token_length_for_each_ReviewID.csv')\n",
    "print(df['top_k_sentences'][0])\n",
    "print([df['Target'][0]])"
   ]
  },
  {
   "cell_type": "code",
   "execution_count": 10,
   "metadata": {},
   "outputs": [
    {
     "name": "stdout",
     "output_type": "stream",
     "text": [
      "[{'rouge-1': {'r': 0.5961538461538461, 'p': 0.1297071129707113, 'f': 0.21305841630873515}, 'rouge-2': {'r': 0.15492957746478872, 'p': 0.02650602409638554, 'f': 0.04526748721697248}, 'rouge-l': {'r': 0.5576923076923077, 'p': 0.12133891213389121, 'f': 0.1993127118413812}}]\n"
     ]
    }
   ],
   "source": [
    "from rouge import Rouge\n",
    "rouge = Rouge()\n",
    "scores = rouge.get_scores(df['top_k_sentences'][0], df['Target'][0])\n",
    "\n",
    "print(scores)"
   ]
  },
  {
   "cell_type": "code",
   "execution_count": null,
   "metadata": {},
   "outputs": [],
   "source": []
  }
 ],
 "metadata": {
  "kernelspec": {
   "display_name": "Python 3",
   "language": "python",
   "name": "python3"
  },
  "language_info": {
   "codemirror_mode": {
    "name": "ipython",
    "version": 3
   },
   "file_extension": ".py",
   "mimetype": "text/x-python",
   "name": "python",
   "nbconvert_exporter": "python",
   "pygments_lexer": "ipython3",
   "version": "3.9.13"
  },
  "orig_nbformat": 4
 },
 "nbformat": 4,
 "nbformat_minor": 2
}
